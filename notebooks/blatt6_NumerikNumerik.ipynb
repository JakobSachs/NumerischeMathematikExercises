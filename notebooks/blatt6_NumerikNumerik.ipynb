{
 "cells": [
  {
   "cell_type": "code",
   "execution_count": 108,
   "metadata": {},
   "outputs": [],
   "source": [
    "#------------------------------------------------------------------------------#\n",
    "\n",
    "# Numerik WiSe 2021/22 - Blatt 6\n",
    "# Aufgabe 6.4\n",
    "# Autor: Jakob Sachs\n",
    "# Gruppe: NumerikNumerik\n",
    "# Benoetigte Module: numpy, matplotlib\n",
    "\n",
    "#------------------------------------------------------------------------------#\n",
    "\n",
    "# Importiere Module #\n",
    "\n",
    "import numpy as np\n",
    "import matplotlib.pyplot as plt\n",
    "from scipy.misc import derivative\n",
    "\n",
    "# Lade StyleSheet #\n",
    "\n",
    "plt.style.use('fivethirtyeight')\n"
   ]
  },
  {
   "cell_type": "code",
   "execution_count": 112,
   "metadata": {},
   "outputs": [
    {
     "name": "stdout",
     "output_type": "stream",
     "text": [
      "[n=4]\tI: 23.4129\t(Trapez)\n",
      "[n=4]\tI: 24.0926\t(Quad)\n",
      "\n",
      "\n",
      "[n=6]\tI: 23.9462\t(Trapez)\n",
      "[n=6]\tI: 24.1909\t(Quad)\n",
      "\n",
      "\n",
      "[n=8]\tI: 24.0926\t(Trapez)\n",
      "[n=8]\tI: 24.2174\t(Quad)\n",
      "\n",
      "\n",
      "[n=10]\tI: 24.1527\t(Trapez)\n",
      "[n=10]\tI: 24.2282\t(Quad)\n",
      "\n",
      "\n",
      "[n=12]\tI: 24.1831\t(Trapez)\n",
      "[n=12]\tI: 24.2337\t(Quad)\n",
      "\n",
      "\n",
      "[n=14]\tI: 24.2006\t(Trapez)\n",
      "[n=14]\tI: 24.2368\t(Quad)\n",
      "\n",
      "\n"
     ]
    }
   ],
   "source": [
    "\n",
    "#------------------------------------------------------------------------------#\n",
    "# Aufgabe 4.1\n",
    "#------------------------------------------------------------------------------#\n",
    "def g(x): return (17/4)*(4 *np.exp(np.pi/8) - 1) * np.exp(x/4)*np.cos(x) \n",
    "\n",
    "\n",
    "def int_trapez(x_i,y_i):\n",
    "  \"\"\"  Funktion zum integrieren einer Funktion mithilfe der zusammen-gesetzten \n",
    "  Trapezregel\n",
    "\n",
    "  param x_i: Die Stuetzstellen [x_0, ..., x_n]\n",
    "\n",
    "  param y_i: Die Funktionswerte an den Stuetzstellen [y_0, ..., y_n]\n",
    "  \"\"\"\n",
    "  res = 0\n",
    "\n",
    "  for i in range(len(x_i)-1):\n",
    "    res += (x_i[i+1]-x_i[i])*(y_i[i]+y_i[i+1])/2\n",
    "  return res\n",
    "\n",
    "def integrate_t(f,a,b,n):\n",
    "  \"\"\"Funktion zum intergrieren einer Funktion f zwischen a und b mit n Schritten. \n",
    "  Alternative zu int_trapez.\n",
    "  \"\"\"\n",
    "\n",
    "  x = np.linspace(a,b,n)\n",
    "  y = f(x)\n",
    "  return int_trapez(x,y)\n",
    "\n",
    "\n",
    "def int_quad(x_i,y_i,dy_i):\n",
    "  \"\"\"  Funktion zum integrieren einer Funktion mithilfe der zusammen-gesetzten \n",
    "  Quadraturregel aus Aufgabe 2\n",
    "\n",
    "  param x_i: Die Stuetzstellen [x_0, ..., x_n]\n",
    "\n",
    "  param y_i: Die Funktionswerte an den Stuetzstellen [y_0, ..., y_n]\n",
    "\n",
    "  param dy_i: Die Ableitungen an den Stuetzstellen [dy_0, ..., dy_n]\n",
    "  \"\"\"\n",
    "  res = 0\n",
    "\n",
    "  for i in range(len(x_i)-1):\n",
    "    res += (((x_i[i+1]-x_i[i])/2 )*(y_i[i]+y_i[i+1])\n",
    "    +  ((abs(x_i[i+1]-x_i[i])**2)/12 )*( dy_i[i]- dy_i[i+1]  ))\n",
    "  return res\n",
    "\n",
    "def integrate_q(f,a,b,n):\n",
    "  \"\"\"Funktion zum intergrieren einer Funktion f zwischen a und b mit n Schritten. \n",
    "  Alternative zu int_quad.\n",
    "  \"\"\"\n",
    "\n",
    "  x = np.linspace(a,b,n)\n",
    "  y = f(x)\n",
    "  return int_quad(x,y,derivative(f,x)) # derivative() ist die Ableitungen von f an den Stellen x\n",
    "\n",
    "\n",
    "\n",
    "for i in range(4,16,2): # n = 4,6,...,14\n",
    "  x_int = np.linspace(0, np.pi/2,i)\n",
    "  y_int = g(x_int)\n",
    "  \n",
    "  y_int_trapez = integrate_t(g,0,np.pi/2,i)\n",
    "  y_int_quad = integrate_q(g,0,np.pi/2,i)\n",
    "  \n",
    "  print(f\"[n={i}]\\tI: {y_int_trapez:.4f}\\t(Trapez)\")\n",
    "  print(f\"[n={i}]\\tI: {y_int_quad:.4f}\\t(Quad)\")\n",
    "  print(\"\\n\")\n"
   ]
  },
  {
   "cell_type": "code",
   "execution_count": 114,
   "metadata": {},
   "outputs": [
    {
     "data": {
      "image/png": "[encoded data removed]",
      "text/plain": [
       "<Figure size 432x288 with 1 Axes>"
      ]
     },
     "metadata": {},
     "output_type": "display_data"
    }
   ],
   "source": [
    "#------------------------------------------------------------------------------#\n",
    "# Aufgabe 4.2\n",
    "#------------------------------------------------------------------------------#\n",
    "\n",
    "# Als Referenz-Wert um unseren Quadraturfehler zu berechnen\n",
    "from scipy.integrate import quad\n",
    "\n",
    "err_trap = []\n",
    "err_quad = []\n",
    "\n",
    "h = []\n",
    "\n",
    "for i in range(2,40):\n",
    "  x_int = np.arange(0, np.pi/2, (np.pi/2)/i)\n",
    "  y_int = g(x_int)\n",
    "  y_int_reference,_ = quad(g,0,np.pi/2)\n",
    "\n",
    "  h.append((np.pi/2)/i)\n",
    "  e = abs(y_int_reference - integrate_t(g,0,np.pi/2,i)) \n",
    "  err_trap.append(e)\n",
    "\n",
    "  e = abs(y_int_reference - integrate_q(g,0,np.pi/2,i))\n",
    "  err_quad.append(e)\n",
    "\n",
    "# Plotten des gemessenen Fehlers\n",
    "plt.scatter(h,err_trap,label=\"Trapez\",marker=\"*\")\n",
    "plt.scatter(h,err_quad,label=\"Quad\",marker=\"^\")\n",
    "plt.xlabel(\"h\")\n",
    "plt.ylabel(\"Quadratursfehler\")\n",
    "plt.legend()\n",
    "plt.show()"
   ]
  },
  {
   "cell_type": "code",
   "execution_count": 111,
   "metadata": {},
   "outputs": [
    {
     "data": {
      "image/png": "[encoded data removed]",
      "text/plain": [
       "<Figure size 432x288 with 1 Axes>"
      ]
     },
     "metadata": {},
     "output_type": "display_data"
    },
    {
     "name": "stdout",
     "output_type": "stream",
     "text": [
      "K_1: 17.3574\tp_1: 3.32\n",
      "K_2: 4.0679\tp_2: 3.64\n"
     ]
    }
   ],
   "source": [
    "# Wir fitten unseren 'gemessenen Fehler' um die Fehlerabschätzungs-parameter \n",
    "# (K und p) zu finden\n",
    "import scipy.optimize as opt\n",
    "\n",
    "\n",
    "# Die Funkion an der wir den Fehler abschätzen wollen\n",
    "def fit(h,K,p): \n",
    "  return K * np.power(h,p)\n",
    "\n",
    "# Wir fitten die Fehlerabschätzung anhand der Daten (Die (1,1) sind hierbei \n",
    "# die Startwerte für das finden von K und p)\n",
    "params_quad,_ = opt.curve_fit(fit,h,err_quad,(1,1))\n",
    "K_quad,p_quad = params_quad\n",
    "\n",
    "params_trap,_ = opt.curve_fit(fit,h,err_trap,(1,1))\n",
    "K_trap,p_trap = params_trap\n",
    "\n",
    "\n",
    "#Plotten der Fehlerabschätzung gegen den gemessenen Fehler\n",
    "plt.scatter(h,err_trap,label=\"Trapez\",marker=\"*\")\n",
    "plt.scatter(h,err_quad,label=\"Quad\",marker=\"^\")\n",
    "plt.plot(h,fit(h,K_trap,p_trap),\"--\",label=\"Fit Trap\")\n",
    "plt.plot(h,fit(h,K_quad,p_quad),\"--\",label=\"Fit Quad\")\n",
    "plt.plot()\n",
    "plt.xlabel(\"h\")\n",
    "plt.ylabel(\"Quadratursfehler\")\n",
    "plt.legend()\n",
    "plt.show()\n",
    "\n",
    "# Ausgabe der Parameter\n",
    "print(f\"K_1: {K_trap:.4f}\\tp_1: {p_trap:.2f}\")\n",
    "print(f\"K_2: {K_quad:.4f}\\tp_2: {p_quad:.2f}\")\n",
    "\n"
   ]
  },
  {
   "cell_type": "code",
   "execution_count": null,
   "metadata": {},
   "outputs": [],
   "source": []
  }
 ],
 "metadata": {
  "interpreter": {
   "hash": "916dbcbb3f70747c44a77c7bcd40155683ae19c65e1c03b4aa3499c5328201f1"
  },
  "kernelspec": {
   "display_name": "Python 3.9.7 64-bit",
   "language": "python",
   "name": "python3"
  },
  "language_info": {
   "codemirror_mode": {
    "name": "ipython",
    "version": 3
   },
   "file_extension": ".py",
   "mimetype": "text/x-python",
   "name": "python",
   "nbconvert_exporter": "python",
   "pygments_lexer": "ipython3",
   "version": "3.9.7"
  },
  "orig_nbformat": 4
 },
 "nbformat": 4,
 "nbformat_minor": 2
}
