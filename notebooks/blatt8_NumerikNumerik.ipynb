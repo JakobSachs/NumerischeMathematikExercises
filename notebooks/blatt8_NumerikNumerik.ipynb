{
 "cells": [
  {
   "cell_type": "code",
   "execution_count": 180,
   "metadata": {},
   "outputs": [],
   "source": [
    "#------------------------------------------------------------------------------#\n",
    "\n",
    "# Numerik WiSe 2021/22 - Blatt 8\n",
    "# Aufgabe: 3\n",
    "# Autor: Jakob Sachs\n",
    "# Gruppe: NumerikNumerik\n",
    "\n",
    "#------------------------------------------------------------------------------#\n",
    "\n",
    "# Importiere Module #\n",
    "\n",
    "import numpy as np\n",
    "import matplotlib.pyplot as plt\n",
    "import scipy  as sp\n",
    "import time\n",
    "\n",
    "# Lade StyleSheet #\n",
    "\n",
    "plt.style.use('fivethirtyeight')\n"
   ]
  },
  {
   "cell_type": "code",
   "execution_count": 181,
   "metadata": {},
   "outputs": [],
   "source": [
    "# Vorbereitung\n",
    "np.random.seed(2021)\n",
    "N = 500\n",
    "\n",
    "A = np.random.rand(N,N)\n",
    "(_,L,R) = sp.linalg.lu(A)\n",
    "\n",
    "for i in range(N):\n",
    "  L[i,i] = 1\n",
    "\n",
    "y = np.ones(N)\n",
    "b = np.dot(L,y)"
   ]
  },
  {
   "cell_type": "code",
   "execution_count": 182,
   "metadata": {},
   "outputs": [
    {
     "name": "stdout",
     "output_type": "stream",
     "text": [
      "Gauss:\t\t1.8472 seconds total\n",
      "\t\t0.0036944 seconds per iteration\n",
      "Substitution:\t0.1428 seconds total\n",
      "\t\t0.0002856 seconds per iteration\n"
     ]
    }
   ],
   "source": [
    "# Messung Gauss\n",
    "\n",
    "start = time.time_ns()\n",
    "for _ in range(N):\n",
    "  _ = np.linalg.solve(L,b)\n",
    "duration = time.time_ns() - start\n",
    "duration /= 1e9\n",
    "\n",
    "print(f\"Gauss:\\t\\t{duration:.5} seconds total\")\n",
    "print(f\"\\t\\t{duration/N:.5} seconds per iteration\")\n",
    "\n",
    "# Messung Substitution\n",
    "\n",
    "start = time.time_ns()\n",
    "for _ in range(N):\n",
    "  _ = sp.linalg.solve_triangular(L,b,lower=True)\n",
    "duration = time.time_ns() - start\n",
    "duration /= 1e9\n",
    "\n",
    "print(f\"Substitution:\\t{duration:.5} seconds total\")\n",
    "print(f\"\\t\\t{duration/N:.5} seconds per iteration\")"
   ]
  },
  {
   "cell_type": "code",
   "execution_count": 183,
   "metadata": {},
   "outputs": [],
   "source": [
    "#------------------------------------------------------------------------------#\n",
    "# Aufgabe 4\n",
    "#------------------------------------------------------------------------------#\n",
    "\n",
    "def vorwaerts(L,b):\n",
    "  n = b.size\n",
    "  x = np.zeros(n)\n",
    "\n",
    "  x[0] = b[0]/L[0,0]\n",
    "\n",
    "  for i in range(1,n):\n",
    "    x[i] = b[i]\n",
    "    for j in range(i):\n",
    "      x[i] -= L[i,j]*x[j]\n",
    "    x[i] /= L[i,i]\n",
    "  return x\n",
    "\n",
    "def rueckwaerts(R,b):\n",
    "  n = b.size\n",
    "  x = np.zeros(n)\n",
    "\n",
    "  x[n-1] = b[n-1]/R[n-1,n-1]\n",
    "\n",
    "  for i in range(n-2,0-1,-1):\n",
    "    x[i] = b[i]\n",
    "    for j in range(i+1,n):\n",
    "      x[i] -= R[i,j]*x[j]\n",
    "    x[i] /= R[i,i]\n",
    "  return x"
   ]
  },
  {
   "cell_type": "code",
   "execution_count": 184,
   "metadata": {},
   "outputs": [],
   "source": [
    "a = np.matrix('1 4 5; 1 6 11; 2 14 31')\n",
    "l = np.matrix('1 0 0; 1 1 0 ; 2 3 1')\n",
    "r = np.matrix('1 4 5; 0 2 6 ; 0 0 3')\n"
   ]
  },
  {
   "cell_type": "code",
   "execution_count": 185,
   "metadata": {},
   "outputs": [
    {
     "name": "stdout",
     "output_type": "stream",
     "text": [
      "[3. 1. 2.]\n"
     ]
    }
   ],
   "source": [
    "y = vorwaerts(l,np.array([17,31,82]))\n",
    "x = rueckwaerts(r,y)\n",
    "print(x)"
   ]
  },
  {
   "cell_type": "code",
   "execution_count": null,
   "metadata": {},
   "outputs": [],
   "source": []
  }
 ],
 "metadata": {
  "interpreter": {
   "hash": "916dbcbb3f70747c44a77c7bcd40155683ae19c65e1c03b4aa3499c5328201f1"
  },
  "kernelspec": {
   "display_name": "Python 3.9.7 64-bit",
   "language": "python",
   "name": "python3"
  },
  "language_info": {
   "codemirror_mode": {
    "name": "ipython",
    "version": 3
   },
   "file_extension": ".py",
   "mimetype": "text/x-python",
   "name": "python",
   "nbconvert_exporter": "python",
   "pygments_lexer": "ipython3",
   "version": "3.9.7"
  },
  "orig_nbformat": 4
 },
 "nbformat": 4,
 "nbformat_minor": 2
}
