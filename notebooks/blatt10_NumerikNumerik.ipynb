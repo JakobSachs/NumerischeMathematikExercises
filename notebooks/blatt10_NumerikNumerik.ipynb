{
 "cells": [
  {
   "cell_type": "code",
   "execution_count": 1,
   "metadata": {},
   "outputs": [],
   "source": [
    "#------------------------------------------------------------------------------#\n",
    "\n",
    "# Numerik WiSe 2021/22 - Blatt 10\n",
    "# Aufgabe: 4\n",
    "# Autor: Jakob Sachs\n",
    "# Gruppe: NumerikNumerik\n",
    "\n",
    "#------------------------------------------------------------------------------#\n",
    "\n",
    "# Importiere Module #\n",
    "\n",
    "import numpy as np\n",
    "import matplotlib.pyplot as plt\n",
    "import time\n",
    "\n",
    "# Lade StyleSheet #\n",
    "\n",
    "plt.style.use('fivethirtyeight')\n"
   ]
  },
  {
   "cell_type": "code",
   "execution_count": 48,
   "metadata": {},
   "outputs": [
    {
     "name": "stdout",
     "output_type": "stream",
     "text": [
      "1.4142135614529252\n",
      "1.4142135623730951\n"
     ]
    }
   ],
   "source": [
    "def bisektion(f , a, b):\n",
    "  assert(a < b)\n",
    "  assert(f(a)*f(b) < 0)\n",
    "\n",
    "  u = [a]\n",
    "  v = [b]\n",
    "\n",
    "  x = (a+b)/2\n",
    "  x_last = 0\n",
    "\n",
    "  while True:\n",
    "    x = (u[-1] + v[-1])/2\n",
    "\n",
    "    if abs(f(x)) < 1e-12: break\n",
    "    if abs(x-x_last) <= 1e-9: break\n",
    "    if f(x) == 0: break\n",
    "    \n",
    "    if f(x) * f(v[-1]) < 0:\n",
    "      u.append(x)\n",
    "      v.append(v[-1])\n",
    "    else:\n",
    "      v.append(x)\n",
    "      u.append(u[-1])\n",
    "\n",
    "    x_last = x\n",
    "  return x\n",
    "\n",
    "def newton(f, df, x0):\n",
    "  assert(df(x0) != 0)\n",
    "\n",
    "  x = x0\n",
    "  x_last = x\n",
    "\n",
    "  while True:\n",
    "    x = x_last - f(x_last)/df(x_last)\n",
    "\n",
    "    if abs(f(x)) < 1e-12: break\n",
    "    if abs(x-x_last) <= 1e-9: break\n",
    "    if f(x) == 0: break\n",
    "\n",
    "    x_last = x\n",
    "\n",
    "  return x\n",
    "\n",
    "def f(x): return x**2 - 2\n",
    "def df(x): return 2*x\n",
    "\n",
    "print(bisektion(f,1,2))\n",
    "print(newton(f,df, (1+2)/2 ))\n",
    "\n"
   ]
  },
  {
   "cell_type": "code",
   "execution_count": null,
   "metadata": {},
   "outputs": [],
   "source": []
  }
 ],
 "metadata": {
  "interpreter": {
   "hash": "916dbcbb3f70747c44a77c7bcd40155683ae19c65e1c03b4aa3499c5328201f1"
  },
  "kernelspec": {
   "display_name": "Python 3.9.7 64-bit",
   "language": "python",
   "name": "python3"
  },
  "language_info": {
   "codemirror_mode": {
    "name": "ipython",
    "version": 3
   },
   "file_extension": ".py",
   "mimetype": "text/x-python",
   "name": "python",
   "nbconvert_exporter": "python",
   "pygments_lexer": "ipython3",
   "version": "3.9.7"
  },
  "orig_nbformat": 4
 },
 "nbformat": 4,
 "nbformat_minor": 2
}
