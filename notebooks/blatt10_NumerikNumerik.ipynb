{
 "cells": [
  {
   "cell_type": "code",
   "execution_count": 46,
   "metadata": {},
   "outputs": [],
   "source": [
    "#------------------------------------------------------------------------------#\n",
    "\n",
    "# Numerik WiSe 2021/22 - Blatt 10\n",
    "# Aufgabe: 4\n",
    "# Autor: Jakob Sachs\n",
    "# Gruppe: NumerikNumerik\n",
    "\n",
    "#------------------------------------------------------------------------------#\n",
    "\n",
    "# Importiere Module #\n",
    "import numpy as np"
   ]
  },
  {
   "cell_type": "code",
   "execution_count": 47,
   "metadata": {},
   "outputs": [],
   "source": [
    "def bisektion(f , a, b):\n",
    "  assert(a < b)\n",
    "  assert(f(a)*f(b) < 0)\n",
    "\n",
    "  u = a\n",
    "  v = b\n",
    "\n",
    "  x = (a+b)/2\n",
    "  x_last = 0\n",
    "\n",
    "  while True:\n",
    "    x = (u-v) / 2\n",
    "\n",
    "    if abs(f(x)) < 1e-12: break\n",
    "    if abs(x-x_last) <= 1e-9: break\n",
    "    if f(x) == 0: break\n",
    "    \n",
    "    if f(x) * f(v) < 0:\n",
    "      u = x\n",
    "      v = v\n",
    "    else:\n",
    "      v = x\n",
    "      u = x\n",
    "    x_last = x\n",
    "\n",
    "  return x\n",
    "\n",
    "def newton(f, df, x0):\n",
    "  assert(df(x0) != 0)\n",
    "\n",
    "  x = x0\n",
    "  x_last = x\n",
    "  while True:\n",
    "    x = x_last - f(x_last) / df(x_last)\n",
    "    \n",
    "    if f(x) == 0: break\n",
    "    if abs(f(x)) < 1e-12: break\n",
    "    if abs(x-x_last) <= 1e-9: break\n",
    "    \n",
    "    x_last = x\n",
    "\n",
    "  return x\n",
    "\n",
    "def dekker_brent(f,a,b):\n",
    "  assert(a < b)\n",
    "  assert(f(a)*f(b) < 0)\n",
    "\n",
    "  c_last = 0  \n",
    "  while True:\n",
    "    c = (a+b)/2\n",
    "\n",
    "    if f(c) == 0: break\n",
    "    if abs(f(c)) < 1e-12: break\n",
    "    if abs(c-c_last) <= 1e-9: break\n",
    "   \n",
    "    xi = c \n",
    "    xi -= f(c)*((b-c)*(f(b)-f(c))) \n",
    "    xi += (f(c) * f(b) * (((a-b)/(f(a)-f(b))-(b-c)/(f(b)-f(c)))/(a-c)))\n",
    "\n",
    "    if  a <= xi  <= c:\n",
    "      a = a\n",
    "      b = c\n",
    "    else:\n",
    "      a = c\n",
    "      b = b\n",
    "    c_last = c\n",
    "  return c"
   ]
  },
  {
   "cell_type": "code",
   "execution_count": 48,
   "metadata": {},
   "outputs": [
    {
     "name": "stdout",
     "output_type": "stream",
     "text": [
      "[Bisektion]\tx =  1.4142135626373926 \tf(x) =  7.475464691708567e-10\n",
      "[Newton]\tx =  1.4142135623730951 \tf(x) =  4.440892098500626e-16\n",
      "[Dekker-Brent]\tx =  1.4142135391011834 \tf(x) =  -6.582290557055614e-08\n",
      "[Original]\tx =  1.4142135623730951 \tf(x) =  4.440892098500626e-16\n"
     ]
    }
   ],
   "source": [
    "# Wir testen unsere drei Verfahren fuer f(x) = x^2 - 2 auf [1,2]\n",
    "\n",
    "def f(x): return x**2 - 2\n",
    "def df(x): return 2*x # Ableitung fuer Newton-Verfahren\n",
    "\n",
    "print(\"[Bisektion]\\tx = \",bisektion(f,1,2),\"\\tf(x) = \",f(bisektion(f,1,2)))\n",
    "print(\"[Newton]\\tx = \",newton(f,df, (1+2)/2 ),\"\\tf(x) = \",f(newton(f,df, (1+2)/2 )))\n",
    "print(\"[Dekker-Brent]\\tx = \",dekker_brent(f,1,2),\"\\tf(x) = \",f(dekker_brent(f,1,2)))\n",
    "print(\"[Original]\\tx = \", np.sqrt(2),\"\\tf(x) = \",f(np.sqrt(2)))"
   ]
  },
  {
   "cell_type": "code",
   "execution_count": null,
   "metadata": {},
   "outputs": [],
   "source": []
  }
 ],
 "metadata": {
  "interpreter": {
   "hash": "916dbcbb3f70747c44a77c7bcd40155683ae19c65e1c03b4aa3499c5328201f1"
  },
  "kernelspec": {
   "display_name": "Python 3.9.7 64-bit",
   "language": "python",
   "name": "python3"
  },
  "language_info": {
   "codemirror_mode": {
    "name": "ipython",
    "version": 3
   },
   "file_extension": ".py",
   "mimetype": "text/x-python",
   "name": "python",
   "nbconvert_exporter": "python",
   "pygments_lexer": "ipython3",
   "version": "3.8.12"
  },
  "orig_nbformat": 4
 },
 "nbformat": 4,
 "nbformat_minor": 2
}
