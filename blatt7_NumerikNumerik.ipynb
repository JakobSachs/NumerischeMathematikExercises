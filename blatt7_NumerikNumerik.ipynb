{
 "cells": [
  {
   "cell_type": "code",
   "execution_count": 16,
   "metadata": {},
   "outputs": [],
   "source": [
    "# Importiere Module #\n",
    "\n",
    "import numpy as np\n",
    "import matplotlib.pyplot as plt\n",
    "import time \n",
    "\n",
    "# Lade StyleSheet #\n",
    "\n",
    "plt.style.use('fivethirtyeight')"
   ]
  },
  {
   "cell_type": "markdown",
   "metadata": {},
   "source": []
  },
  {
   "cell_type": "code",
   "execution_count": 17,
   "metadata": {},
   "outputs": [],
   "source": [
    "def cramer(A,b):\n",
    "  n = np.linalg.det(A)\n",
    "  x = []\n",
    "  for i in range(A.shape[1]):\n",
    "    H = np.hstack( [ A[:,:i], b.reshape(-1,1), A[:,i+1:] ] )\n",
    "    x.append(np.linalg.det(H)/n)\n",
    "  return x"
   ]
  },
  {
   "cell_type": "code",
   "execution_count": 18,
   "metadata": {},
   "outputs": [
    {
     "name": "stdout",
     "output_type": "stream",
     "text": [
      "50x50 Matrix:\n",
      "Cramer:  0.18143 seconds\n",
      "Inverse:  0.015299 seconds\n",
      "np-Solve:  0.11244 seconds\n",
      "100x100 Matrix:\n",
      "Cramer:  3.8817 seconds\n",
      "Inverse:  0.044459 seconds\n",
      "np-Solve:  0.022348 seconds\n",
      "500x500 Matrix:\n",
      "Inverse:  7.3893 seconds\n",
      "np-Solve:  3.0169 seconds\n"
     ]
    }
   ],
   "source": [
    "\n",
    "\n",
    "\n",
    "for i in [50,100,500]:\n",
    "  A = np.random.rand(i,i)\n",
    "  x = np.ones(i)\n",
    "  b = np.dot(A,x)\n",
    "\n",
    "\n",
    "  print(f\"{i}x{i} Matrix:\")\n",
    "  \n",
    "  if i <= 100:\n",
    "\n",
    "    start = time.time_ns()\n",
    "    for j in range(i):\n",
    "      _ = cramer(A,b)\n",
    "    duration = time.time_ns() - start\n",
    "    duration /= 1e9\n",
    "    print(f\"Cramer:  {duration:.5} seconds\")\n",
    "\n",
    "  start = time.time_ns()\n",
    "  for _ in range(i):\n",
    "    A_inv = np.linalg.inv(A)\n",
    "    _ = np.dot(A_inv,b)\n",
    "  duration = time.time_ns() - start\n",
    "  duration /= 1e9\n",
    "\n",
    "  print(f\"Inverse:  {duration:.5} seconds\")\n",
    "\n",
    "  start = time.time_ns()\n",
    "  for _ in range(i):\n",
    "    _ = np.linalg.solve(A,b)\n",
    "  duration = time.time_ns() - start\n",
    "  duration /= 1e9\n",
    "\n",
    "  print(f\"np-Solve:  {duration:.5} seconds\")\n",
    "\n",
    "\n"
   ]
  },
  {
   "cell_type": "code",
   "execution_count": null,
   "metadata": {},
   "outputs": [],
   "source": []
  },
  {
   "cell_type": "code",
   "execution_count": null,
   "metadata": {},
   "outputs": [],
   "source": []
  }
 ],
 "metadata": {
  "interpreter": {
   "hash": "916dbcbb3f70747c44a77c7bcd40155683ae19c65e1c03b4aa3499c5328201f1"
  },
  "kernelspec": {
   "display_name": "Python 3.9.7 64-bit",
   "language": "python",
   "name": "python3"
  },
  "language_info": {
   "codemirror_mode": {
    "name": "ipython",
    "version": 3
   },
   "file_extension": ".py",
   "mimetype": "text/x-python",
   "name": "python",
   "nbconvert_exporter": "python",
   "pygments_lexer": "ipython3",
   "version": "3.9.7"
  },
  "orig_nbformat": 4
 },
 "nbformat": 4,
 "nbformat_minor": 2
}
